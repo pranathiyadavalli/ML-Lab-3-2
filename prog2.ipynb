{
 "cells": [
  {
   "cell_type": "code",
   "execution_count": 1,
   "metadata": {},
   "outputs": [
    {
     "name": "stdout",
     "output_type": "stream",
     "text": [
      "Requirement already satisfied: db-sqlite3 in c:\\users\\pranathi\\anaconda3\\lib\\site-packages (0.0.1)\n",
      "Requirement already satisfied: db in c:\\users\\pranathi\\anaconda3\\lib\\site-packages (from db-sqlite3) (0.1.1)\n",
      "Requirement already satisfied: antiorm in c:\\users\\pranathi\\anaconda3\\lib\\site-packages (from db->db-sqlite3) (1.2.1)\n"
     ]
    }
   ],
   "source": [
    "!pip install db-sqlite3\n",
    "import sqlite3"
   ]
  },
  {
   "cell_type": "code",
   "execution_count": 2,
   "metadata": {},
   "outputs": [
    {
     "name": "stdout",
     "output_type": "stream",
     "text": [
      "Opened database successfully\n"
     ]
    }
   ],
   "source": [
    "conn=sqlite3.connect('sample.db')\n",
    "cur=conn.cursor()\n",
    "print (\"Opened database successfully\");"
   ]
  },
  {
   "cell_type": "code",
   "execution_count": 3,
   "metadata": {},
   "outputs": [
    {
     "ename": "OperationalError",
     "evalue": "table EMPLOYEE already exists",
     "output_type": "error",
     "traceback": [
      "\u001b[1;31m---------------------------------------------------------------------------\u001b[0m",
      "\u001b[1;31mOperationalError\u001b[0m                          Traceback (most recent call last)",
      "\u001b[1;32m<ipython-input-3-fdf575293912>\u001b[0m in \u001b[0;36m<module>\u001b[1;34m\u001b[0m\n\u001b[1;32m----> 1\u001b[1;33m conn.execute('''CREATE TABLE EMPLOYEE\n\u001b[0m\u001b[0;32m      2\u001b[0m          (ID INT PRIMARY KEY     NOT NULL,\n\u001b[0;32m      3\u001b[0m          \u001b[0mNAME\u001b[0m           \u001b[0mTEXT\u001b[0m    \u001b[0mNOT\u001b[0m \u001b[0mNULL\u001b[0m\u001b[1;33m,\u001b[0m\u001b[1;33m\u001b[0m\u001b[1;33m\u001b[0m\u001b[0m\n\u001b[0;32m      4\u001b[0m          \u001b[0mAGE\u001b[0m            \u001b[0mINT\u001b[0m     \u001b[0mNOT\u001b[0m \u001b[0mNULL\u001b[0m\u001b[1;33m,\u001b[0m\u001b[1;33m\u001b[0m\u001b[1;33m\u001b[0m\u001b[0m\n\u001b[0;32m      5\u001b[0m          \u001b[0mADDRESS\u001b[0m        \u001b[0mCHAR\u001b[0m\u001b[1;33m(\u001b[0m\u001b[1;36m30\u001b[0m\u001b[1;33m)\u001b[0m\u001b[1;33m,\u001b[0m\u001b[1;33m\u001b[0m\u001b[1;33m\u001b[0m\u001b[0m\n",
      "\u001b[1;31mOperationalError\u001b[0m: table EMPLOYEE already exists"
     ]
    }
   ],
   "source": [
    "conn.execute('''CREATE TABLE EMPLOYEE\n",
    "         (ID INT PRIMARY KEY     NOT NULL,\n",
    "         NAME           TEXT    NOT NULL,\n",
    "         AGE            INT     NOT NULL,\n",
    "         ADDRESS        CHAR(30),\n",
    "         SALARY         REAL);''')\n",
    "print (\"Table created successfully\");"
   ]
  },
  {
   "cell_type": "code",
   "execution_count": null,
   "metadata": {},
   "outputs": [],
   "source": [
    "conn.execute(\"INSERT INTO EMPLOYEE (ID,NAME,AGE,ADDRESS,SALARY) \\\n",
    "      VALUES (1, 'Pranathi', 19, 'Goa', 2000000.00 )\");\n",
    "\n",
    "conn.execute(\"INSERT INTO EMPLOYEE (ID,NAME,AGE,ADDRESS,SALARY) \\\n",
    "      VALUES (2, 'Anisha', 25, 'Kochi', 15000.00 )\");\n",
    "\n",
    "conn.execute(\"INSERT INTO EMPLOYEE (ID,NAME,AGE,ADDRESS,SALARY) \\\n",
    "      VALUES (3, 'Teju', 13, 'Hyderabad', 20000.00 )\");\n",
    "\n",
    "conn.execute(\"INSERT INTO EMPLOYEE (ID,NAME,AGE,ADDRESS,SALARY) \\\n",
    "      VALUES (4, 'Manisha', 22, 'Ranchi ', 65000.00 )\");\n",
    "\n",
    "conn.commit()\n",
    "print (\"Records created successfully\");"
   ]
  },
  {
   "cell_type": "code",
   "execution_count": null,
   "metadata": {},
   "outputs": [],
   "source": [
    "for row in conn.execute('select * from EMPLOYEE'):\n",
    "        print(row)"
   ]
  },
  {
   "cell_type": "code",
   "execution_count": null,
   "metadata": {},
   "outputs": [],
   "source": [
    "conn.commit()"
   ]
  },
  {
   "cell_type": "code",
   "execution_count": null,
   "metadata": {},
   "outputs": [],
   "source": [
    "conn.close()"
   ]
  }
 ],
 "metadata": {
  "kernelspec": {
   "display_name": "Python 3",
   "language": "python",
   "name": "python3"
  },
  "language_info": {
   "codemirror_mode": {
    "name": "ipython",
    "version": 3
   },
   "file_extension": ".py",
   "mimetype": "text/x-python",
   "name": "python",
   "nbconvert_exporter": "python",
   "pygments_lexer": "ipython3",
   "version": "3.8.5"
  }
 },
 "nbformat": 4,
 "nbformat_minor": 4
}
